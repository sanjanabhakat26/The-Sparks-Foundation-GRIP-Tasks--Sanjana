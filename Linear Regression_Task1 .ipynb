{
 "cells": [
  {
   "cell_type": "markdown",
   "id": "f952d2a7",
   "metadata": {},
   "source": [
    "# Linear Regression-Prediction using Supervised ML"
   ]
  },
  {
   "cell_type": "markdown",
   "id": "a6357ae3",
   "metadata": {},
   "source": [
    "Task1, Graduate Rotational Internship (GRIP), The Sparks Foundation, Batch-GRIPMARCH23"
   ]
  },
  {
   "cell_type": "markdown",
   "id": "5f95f64e",
   "metadata": {},
   "source": [
    "# Problem Statement"
   ]
  },
  {
   "cell_type": "markdown",
   "id": "32ece6a6",
   "metadata": {},
   "source": [
    "Predict the percentage of an student based on the no. of study hours. What will be predicted score if a student studies for 9.25 hrs/ day?"
   ]
  },
  {
   "cell_type": "markdown",
   "id": "4ce2765c",
   "metadata": {},
   "source": [
    "The task can be solved using Simple Linear Regression on the given dataset."
   ]
  },
  {
   "cell_type": "markdown",
   "id": "0dbd5203",
   "metadata": {},
   "source": [
    "# Author"
   ]
  },
  {
   "cell_type": "markdown",
   "id": "20c20695",
   "metadata": {},
   "source": [
    "Sanjana Bhakat"
   ]
  },
  {
   "cell_type": "code",
   "execution_count": 9,
   "id": "73b7b681",
   "metadata": {},
   "outputs": [],
   "source": [
    "#importing the necessary libraries\n",
    "import numpy as np\n",
    "import pandas as pd\n",
    "import matplotlib.pyplot as plt\n",
    "import seaborn as sns\n",
    "from sklearn.linear_model import LinearRegression\n",
    "from sklearn.model_selection import train_test_split"
   ]
  },
  {
   "cell_type": "code",
   "execution_count": 10,
   "id": "68a8b32e",
   "metadata": {},
   "outputs": [
    {
     "name": "stdout",
     "output_type": "stream",
     "text": [
      "Data imported successfully\n"
     ]
    },
    {
     "data": {
      "text/html": [
       "<div>\n",
       "<style scoped>\n",
       "    .dataframe tbody tr th:only-of-type {\n",
       "        vertical-align: middle;\n",
       "    }\n",
       "\n",
       "    .dataframe tbody tr th {\n",
       "        vertical-align: top;\n",
       "    }\n",
       "\n",
       "    .dataframe thead th {\n",
       "        text-align: right;\n",
       "    }\n",
       "</style>\n",
       "<table border=\"1\" class=\"dataframe\">\n",
       "  <thead>\n",
       "    <tr style=\"text-align: right;\">\n",
       "      <th></th>\n",
       "      <th>Hours</th>\n",
       "      <th>Scores</th>\n",
       "    </tr>\n",
       "  </thead>\n",
       "  <tbody>\n",
       "    <tr>\n",
       "      <th>0</th>\n",
       "      <td>2.5</td>\n",
       "      <td>21</td>\n",
       "    </tr>\n",
       "    <tr>\n",
       "      <th>1</th>\n",
       "      <td>5.1</td>\n",
       "      <td>47</td>\n",
       "    </tr>\n",
       "    <tr>\n",
       "      <th>2</th>\n",
       "      <td>3.2</td>\n",
       "      <td>27</td>\n",
       "    </tr>\n",
       "    <tr>\n",
       "      <th>3</th>\n",
       "      <td>8.5</td>\n",
       "      <td>75</td>\n",
       "    </tr>\n",
       "    <tr>\n",
       "      <th>4</th>\n",
       "      <td>3.5</td>\n",
       "      <td>30</td>\n",
       "    </tr>\n",
       "  </tbody>\n",
       "</table>\n",
       "</div>"
      ],
      "text/plain": [
       "   Hours  Scores\n",
       "0    2.5      21\n",
       "1    5.1      47\n",
       "2    3.2      27\n",
       "3    8.5      75\n",
       "4    3.5      30"
      ]
     },
     "execution_count": 10,
     "metadata": {},
     "output_type": "execute_result"
    }
   ],
   "source": [
    "#importing data from an external link\n",
    "url=\"http://bit.ly/w-data\"\n",
    "data=pd.read_csv(url)\n",
    "print(\"Data imported successfully\")\n",
    "data.head()"
   ]
  },
  {
   "cell_type": "markdown",
   "id": "a3c2de73",
   "metadata": {},
   "source": [
    "# Exploring the Dataset "
   ]
  },
  {
   "cell_type": "code",
   "execution_count": 11,
   "id": "4ef5a1b5",
   "metadata": {
    "scrolled": true
   },
   "outputs": [
    {
     "data": {
      "text/html": [
       "<div>\n",
       "<style scoped>\n",
       "    .dataframe tbody tr th:only-of-type {\n",
       "        vertical-align: middle;\n",
       "    }\n",
       "\n",
       "    .dataframe tbody tr th {\n",
       "        vertical-align: top;\n",
       "    }\n",
       "\n",
       "    .dataframe thead th {\n",
       "        text-align: right;\n",
       "    }\n",
       "</style>\n",
       "<table border=\"1\" class=\"dataframe\">\n",
       "  <thead>\n",
       "    <tr style=\"text-align: right;\">\n",
       "      <th></th>\n",
       "      <th>Hours</th>\n",
       "      <th>Scores</th>\n",
       "    </tr>\n",
       "  </thead>\n",
       "  <tbody>\n",
       "    <tr>\n",
       "      <th>count</th>\n",
       "      <td>25.000000</td>\n",
       "      <td>25.000000</td>\n",
       "    </tr>\n",
       "    <tr>\n",
       "      <th>mean</th>\n",
       "      <td>5.012000</td>\n",
       "      <td>51.480000</td>\n",
       "    </tr>\n",
       "    <tr>\n",
       "      <th>std</th>\n",
       "      <td>2.525094</td>\n",
       "      <td>25.286887</td>\n",
       "    </tr>\n",
       "    <tr>\n",
       "      <th>min</th>\n",
       "      <td>1.100000</td>\n",
       "      <td>17.000000</td>\n",
       "    </tr>\n",
       "    <tr>\n",
       "      <th>25%</th>\n",
       "      <td>2.700000</td>\n",
       "      <td>30.000000</td>\n",
       "    </tr>\n",
       "    <tr>\n",
       "      <th>50%</th>\n",
       "      <td>4.800000</td>\n",
       "      <td>47.000000</td>\n",
       "    </tr>\n",
       "    <tr>\n",
       "      <th>75%</th>\n",
       "      <td>7.400000</td>\n",
       "      <td>75.000000</td>\n",
       "    </tr>\n",
       "    <tr>\n",
       "      <th>max</th>\n",
       "      <td>9.200000</td>\n",
       "      <td>95.000000</td>\n",
       "    </tr>\n",
       "  </tbody>\n",
       "</table>\n",
       "</div>"
      ],
      "text/plain": [
       "           Hours     Scores\n",
       "count  25.000000  25.000000\n",
       "mean    5.012000  51.480000\n",
       "std     2.525094  25.286887\n",
       "min     1.100000  17.000000\n",
       "25%     2.700000  30.000000\n",
       "50%     4.800000  47.000000\n",
       "75%     7.400000  75.000000\n",
       "max     9.200000  95.000000"
      ]
     },
     "execution_count": 11,
     "metadata": {},
     "output_type": "execute_result"
    }
   ],
   "source": [
    "data.describe()"
   ]
  },
  {
   "cell_type": "code",
   "execution_count": 12,
   "id": "a8fdc6e1",
   "metadata": {
    "scrolled": true
   },
   "outputs": [
    {
     "data": {
      "text/html": [
       "<div>\n",
       "<style scoped>\n",
       "    .dataframe tbody tr th:only-of-type {\n",
       "        vertical-align: middle;\n",
       "    }\n",
       "\n",
       "    .dataframe tbody tr th {\n",
       "        vertical-align: top;\n",
       "    }\n",
       "\n",
       "    .dataframe thead th {\n",
       "        text-align: right;\n",
       "    }\n",
       "</style>\n",
       "<table border=\"1\" class=\"dataframe\">\n",
       "  <thead>\n",
       "    <tr style=\"text-align: right;\">\n",
       "      <th></th>\n",
       "      <th>Hours</th>\n",
       "      <th>Scores</th>\n",
       "    </tr>\n",
       "  </thead>\n",
       "  <tbody>\n",
       "    <tr>\n",
       "      <th>0</th>\n",
       "      <td>2.5</td>\n",
       "      <td>30.0</td>\n",
       "    </tr>\n",
       "    <tr>\n",
       "      <th>1</th>\n",
       "      <td>2.7</td>\n",
       "      <td>NaN</td>\n",
       "    </tr>\n",
       "  </tbody>\n",
       "</table>\n",
       "</div>"
      ],
      "text/plain": [
       "   Hours  Scores\n",
       "0    2.5    30.0\n",
       "1    2.7     NaN"
      ]
     },
     "execution_count": 12,
     "metadata": {},
     "output_type": "execute_result"
    }
   ],
   "source": [
    "data.mode()"
   ]
  },
  {
   "cell_type": "markdown",
   "id": "e2412393",
   "metadata": {},
   "source": [
    "We see that the average number of hours studied by a student in the given dataset is 2.5 and the average score is approximately 51. However, from the mode we find that most students study around 2.5 or 2.7 hours but score around 30."
   ]
  },
  {
   "cell_type": "markdown",
   "id": "555ea789",
   "metadata": {},
   "source": [
    "# Data Visualisation"
   ]
  },
  {
   "cell_type": "markdown",
   "id": "ea0cbda0",
   "metadata": {},
   "source": [
    "We now use various plots to get a visual idea of the relationship between the data. First, we create a scatter plot using:"
   ]
  },
  {
   "cell_type": "code",
   "execution_count": 13,
   "id": "5a0891c4",
   "metadata": {},
   "outputs": [
    {
     "data": {
      "image/png": "[encoded data removed]",
      "text/plain": [
       "<Figure size 640x480 with 1 Axes>"
      ]
     },
     "metadata": {},
     "output_type": "display_data"
    }
   ],
   "source": [
    "data.plot(x=\"Hours\",y=\"Scores\",style='o')\n",
    "plt.xlabel(\"No. of Hours Studied\")\n",
    "plt.ylabel(\"Score in Percentage\")\n",
    "plt.show()"
   ]
  },
  {
   "cell_type": "markdown",
   "id": "6ab2860a",
   "metadata": {},
   "source": [
    "The scatter plot shows us that there exists a positive linear relationship between the data values i.e the scores and the number of hours studied. "
   ]
  },
  {
   "cell_type": "code",
   "execution_count": 14,
   "id": "fa921cbc",
   "metadata": {},
   "outputs": [
    {
     "data": {
      "image/png": "[encoded data removed]",
      "text/plain": [
       "<Figure size 640x480 with 1 Axes>"
      ]
     },
     "metadata": {},
     "output_type": "display_data"
    }
   ],
   "source": [
    "plt.boxplot(x=data['Hours'])\n",
    "plt.show()"
   ]
  },
  {
   "cell_type": "code",
   "execution_count": 15,
   "id": "ab695bd6",
   "metadata": {
    "scrolled": true
   },
   "outputs": [
    {
     "data": {
      "image/png": "[encoded data removed]",
      "text/plain": [
       "<Figure size 640x480 with 1 Axes>"
      ]
     },
     "metadata": {},
     "output_type": "display_data"
    }
   ],
   "source": [
    "plt.boxplot(x=data['Scores'])\n",
    "plt.show()"
   ]
  },
  {
   "cell_type": "markdown",
   "id": "f93c4aef",
   "metadata": {},
   "source": [
    "The first boxplot shows that most of the data in the hours column is found within the range 2.5-7.5. The second boxplot shows that most of the data in the scores column is found within the range 30-75. The data outside the specified ranges form outliers."
   ]
  },
  {
   "cell_type": "code",
   "execution_count": 16,
   "id": "6f78f7c8",
   "metadata": {
    "scrolled": false
   },
   "outputs": [
    {
     "data": {
      "image/png": "[encoded data removed]",
      "text/plain": [
       "<Figure size 640x480 with 2 Axes>"
      ]
     },
     "metadata": {},
     "output_type": "display_data"
    }
   ],
   "source": [
    "annot=True\n",
    "hm=sns.heatmap(data=data.corr(), annot=annot)\n",
    "plt.show()"
   ]
  },
  {
   "cell_type": "markdown",
   "id": "aa5f0fc2",
   "metadata": {},
   "source": [
    "The above heatmap shows the correlation between the two columns. It is evident that both the columns are highly correlated and a linear relationship exists between them. Hence, linear regression model will be suitable for making predictions using this data."
   ]
  },
  {
   "cell_type": "markdown",
   "id": "597cdfe3",
   "metadata": {},
   "source": [
    "# Classifying/Preparing the data"
   ]
  },
  {
   "cell_type": "markdown",
   "id": "7373510e",
   "metadata": {},
   "source": [
    "To prepare the data for training, we need to classify the data into attributes and labels. \n",
    "The label is the variable we are predicting i.e the Score in percentage (represented here by the Y variable). \n",
    "The attribute is the feature or the input variable i.e the Number of Hours Studied (represented here by the X variable).\n"
   ]
  },
  {
   "cell_type": "code",
   "execution_count": 70,
   "id": "4ca539c7",
   "metadata": {},
   "outputs": [
    {
     "data": {
      "text/plain": [
       "array([[2.5],\n",
       "       [5.1],\n",
       "       [3.2],\n",
       "       [8.5],\n",
       "       [3.5],\n",
       "       [1.5],\n",
       "       [9.2],\n",
       "       [5.5],\n",
       "       [8.3],\n",
       "       [2.7],\n",
       "       [7.7],\n",
       "       [5.9],\n",
       "       [4.5],\n",
       "       [3.3],\n",
       "       [1.1],\n",
       "       [8.9],\n",
       "       [2.5],\n",
       "       [1.9],\n",
       "       [6.1],\n",
       "       [7.4],\n",
       "       [2.7],\n",
       "       [4.8],\n",
       "       [3.8],\n",
       "       [6.9],\n",
       "       [7.8]])"
      ]
     },
     "execution_count": 70,
     "metadata": {},
     "output_type": "execute_result"
    }
   ],
   "source": [
    "X=data.iloc[:,:-1].values\n",
    "X"
   ]
  },
  {
   "cell_type": "code",
   "execution_count": 71,
   "id": "0c1156b5",
   "metadata": {},
   "outputs": [
    {
     "data": {
      "text/plain": [
       "array([21, 47, 27, 75, 30, 20, 88, 60, 81, 25, 85, 62, 41, 42, 17, 95, 30,\n",
       "       24, 67, 69, 30, 54, 35, 76, 86], dtype=int64)"
      ]
     },
     "execution_count": 71,
     "metadata": {},
     "output_type": "execute_result"
    }
   ],
   "source": [
    "Y=data.iloc[:,1].values\n",
    "Y"
   ]
  },
  {
   "cell_type": "markdown",
   "id": "ff46c02e",
   "metadata": {},
   "source": [
    "Hence, we get the attributes and the labels. Next, we need to divide the data into a testing set and a training set. To do so, we use the train_test_split function from the scikit-learn library. We split the data in 80:20 ratio."
   ]
  },
  {
   "cell_type": "code",
   "execution_count": 72,
   "id": "74112856",
   "metadata": {},
   "outputs": [
    {
     "data": {
      "text/plain": [
       "array([[3.8],\n",
       "       [1.9],\n",
       "       [7.8],\n",
       "       [6.9],\n",
       "       [1.1],\n",
       "       [5.1],\n",
       "       [7.7],\n",
       "       [3.3],\n",
       "       [8.3],\n",
       "       [9.2],\n",
       "       [6.1],\n",
       "       [3.5],\n",
       "       [2.7],\n",
       "       [5.5],\n",
       "       [2.7],\n",
       "       [8.5],\n",
       "       [2.5],\n",
       "       [4.8],\n",
       "       [8.9],\n",
       "       [4.5]])"
      ]
     },
     "execution_count": 72,
     "metadata": {},
     "output_type": "execute_result"
    }
   ],
   "source": [
    "X_train,X_test,Y_train,Y_test=train_test_split(X,Y,test_size=0.2,random_state=0)\n",
    "X_train"
   ]
  },
  {
   "cell_type": "code",
   "execution_count": 73,
   "id": "aa742df3",
   "metadata": {},
   "outputs": [
    {
     "data": {
      "text/plain": [
       "array([[1.5],\n",
       "       [3.2],\n",
       "       [7.4],\n",
       "       [2.5],\n",
       "       [5.9]])"
      ]
     },
     "execution_count": 73,
     "metadata": {},
     "output_type": "execute_result"
    }
   ],
   "source": [
    "X_test"
   ]
  },
  {
   "cell_type": "markdown",
   "id": "9e4fdc1c",
   "metadata": {},
   "source": [
    "# Training the algorithm"
   ]
  },
  {
   "cell_type": "markdown",
   "id": "e58afe16",
   "metadata": {},
   "source": [
    "Now that we have the training set and the testing set, we need to train our model. As we have seen earlier, a positive linear relationship exists between the data and hence, we use Linear Regression to train our model."
   ]
  },
  {
   "cell_type": "code",
   "execution_count": 74,
   "id": "d569f732",
   "metadata": {},
   "outputs": [
    {
     "name": "stdout",
     "output_type": "stream",
     "text": [
      "Model training completed.\n"
     ]
    }
   ],
   "source": [
    "model=LinearRegression()\n",
    "model.fit(X_train,Y_train)\n",
    "print(\"Model training completed.\")"
   ]
  },
  {
   "cell_type": "code",
   "execution_count": 75,
   "id": "74481b52",
   "metadata": {},
   "outputs": [
    {
     "name": "stdout",
     "output_type": "stream",
     "text": [
      "Co-efficient of determination:0.9515510725211552\n"
     ]
    }
   ],
   "source": [
    "r_square=model.score(X_train,Y_train)\n",
    "print(f\"Co-efficient of determination:{r_square}\")"
   ]
  },
  {
   "cell_type": "markdown",
   "id": "8d7d5abd",
   "metadata": {},
   "source": [
    "The co-efficient of determination or r-square gives us the percentage variation in the variable \"Score\" i.e Y_train or the dependent variable in the training set which is accounted for by the variable \"Hours\" i.e X_train in the training set or the independent variable."
   ]
  },
  {
   "cell_type": "code",
   "execution_count": 76,
   "id": "ab89a255",
   "metadata": {},
   "outputs": [
    {
     "name": "stdout",
     "output_type": "stream",
     "text": [
      "Intercept:2.018160041434683\n",
      "Slope:[9.91065648]\n"
     ]
    }
   ],
   "source": [
    "print(f\"Intercept:{model.intercept_}\") \n",
    "print(f\"Slope:{model.coef_}\")        "
   ]
  },
  {
   "cell_type": "markdown",
   "id": "40236f6b",
   "metadata": {},
   "source": [
    "Through linear regression we are trying find the equation of the line of Y on X i.e Y=aX+b where a is the Slope and b is the Intercept. Upon putting the values of a and b the equation of the line here becomes: Y=9.91065648*X+2.018160041434683. "
   ]
  },
  {
   "cell_type": "code",
   "execution_count": 77,
   "id": "2c1e4231",
   "metadata": {},
   "outputs": [
    {
     "data": {
      "image/png": "[encoded data removed]",
      "text/plain": [
       "<Figure size 640x480 with 1 Axes>"
      ]
     },
     "metadata": {},
     "output_type": "display_data"
    }
   ],
   "source": [
    "line=model.coef_*X+model.intercept_\n",
    "plt.scatter(X,Y)\n",
    "plt.plot(X,line)\n",
    "plt.show()"
   ]
  },
  {
   "cell_type": "markdown",
   "id": "cb53d603",
   "metadata": {},
   "source": [
    "Here, we plot the line of regression of Y on X. We first plot the scatter plot of the training set. Then, we calculate values of Y for given values of X from the last equation and plot the line using the predicted values of Y."
   ]
  },
  {
   "cell_type": "markdown",
   "id": "1a565934",
   "metadata": {},
   "source": [
    "# Prediction on the testing set"
   ]
  },
  {
   "cell_type": "markdown",
   "id": "bee5bd5e",
   "metadata": {},
   "source": [
    "Using the model, we now predict the values of Y for the testing set and also tabulate the actual and the predicted values."
   ]
  },
  {
   "cell_type": "code",
   "execution_count": 78,
   "id": "16d2f995",
   "metadata": {},
   "outputs": [
    {
     "name": "stdout",
     "output_type": "stream",
     "text": [
      "[16.88414476 33.73226078 75.357018   26.79480124 60.49103328]\n"
     ]
    }
   ],
   "source": [
    "predict_y=model.predict(X_test)\n",
    "print(predict_y)"
   ]
  },
  {
   "cell_type": "code",
   "execution_count": 79,
   "id": "d3f3f045",
   "metadata": {},
   "outputs": [
    {
     "data": {
      "text/html": [
       "<div>\n",
       "<style scoped>\n",
       "    .dataframe tbody tr th:only-of-type {\n",
       "        vertical-align: middle;\n",
       "    }\n",
       "\n",
       "    .dataframe tbody tr th {\n",
       "        vertical-align: top;\n",
       "    }\n",
       "\n",
       "    .dataframe thead th {\n",
       "        text-align: right;\n",
       "    }\n",
       "</style>\n",
       "<table border=\"1\" class=\"dataframe\">\n",
       "  <thead>\n",
       "    <tr style=\"text-align: right;\">\n",
       "      <th></th>\n",
       "      <th>Actual Score</th>\n",
       "      <th>Predicted Score</th>\n",
       "    </tr>\n",
       "  </thead>\n",
       "  <tbody>\n",
       "    <tr>\n",
       "      <th>0</th>\n",
       "      <td>20</td>\n",
       "      <td>16.884145</td>\n",
       "    </tr>\n",
       "    <tr>\n",
       "      <th>1</th>\n",
       "      <td>27</td>\n",
       "      <td>33.732261</td>\n",
       "    </tr>\n",
       "    <tr>\n",
       "      <th>2</th>\n",
       "      <td>69</td>\n",
       "      <td>75.357018</td>\n",
       "    </tr>\n",
       "    <tr>\n",
       "      <th>3</th>\n",
       "      <td>30</td>\n",
       "      <td>26.794801</td>\n",
       "    </tr>\n",
       "    <tr>\n",
       "      <th>4</th>\n",
       "      <td>62</td>\n",
       "      <td>60.491033</td>\n",
       "    </tr>\n",
       "  </tbody>\n",
       "</table>\n",
       "</div>"
      ],
      "text/plain": [
       "   Actual Score  Predicted Score\n",
       "0            20        16.884145\n",
       "1            27        33.732261\n",
       "2            69        75.357018\n",
       "3            30        26.794801\n",
       "4            62        60.491033"
      ]
     },
     "execution_count": 79,
     "metadata": {},
     "output_type": "execute_result"
    }
   ],
   "source": [
    "df=pd.DataFrame({'Actual Score':Y_test,'Predicted Score':predict_y})\n",
    "df"
   ]
  },
  {
   "cell_type": "markdown",
   "id": "9c3de440",
   "metadata": {},
   "source": [
    "# Calculating Errors"
   ]
  },
  {
   "cell_type": "markdown",
   "id": "e25d134e",
   "metadata": {},
   "source": [
    "Now, we calculate the errors in our prediction. That is, we compare the values of the predicted scores with the actual scores and use relevant metrics to find the error."
   ]
  },
  {
   "cell_type": "code",
   "execution_count": 80,
   "id": "238ec480",
   "metadata": {},
   "outputs": [
    {
     "name": "stdout",
     "output_type": "stream",
     "text": [
      "Errors on comparing Actual and the Predicted scores:\n",
      "[3.115855237601963, 6.732260779489842, 6.3570179981872315, 3.2051987569597244, 1.5089667227761154]\n"
     ]
    }
   ],
   "source": [
    "errors=list()\n",
    "for i in range(len(Y_test)):\n",
    "    err=abs((df['Actual Score'][i]-df['Predicted Score'][i]))\n",
    "    errors.append(err)\n",
    "print(f\"Errors on comparing Actual and the Predicted scores:\\n{errors}\")"
   ]
  },
  {
   "cell_type": "markdown",
   "id": "e771bcc1",
   "metadata": {},
   "source": [
    "There are many metrics that can be used to calculate the error of a linear regression model. We use the mean absolute error for this model. "
   ]
  },
  {
   "cell_type": "code",
   "execution_count": 81,
   "id": "b0f876a4",
   "metadata": {},
   "outputs": [
    {
     "name": "stdout",
     "output_type": "stream",
     "text": [
      "4.183859899002975\n"
     ]
    }
   ],
   "source": [
    "from sklearn import metrics\n",
    "error=metrics.mean_absolute_error(Y_test,predict_y)\n",
    "print(error)"
   ]
  },
  {
   "cell_type": "markdown",
   "id": "3ab2c514",
   "metadata": {},
   "source": [
    "Next, we plot the predicted scores and the actual scores of the training set to get a visual idea of the deviation from original ones."
   ]
  },
  {
   "cell_type": "code",
   "execution_count": 82,
   "id": "611dcb10",
   "metadata": {},
   "outputs": [
    {
     "data": {
      "image/png": "[encoded data removed]",
      "text/plain": [
       "<Figure size 640x480 with 1 Axes>"
      ]
     },
     "metadata": {},
     "output_type": "display_data"
    }
   ],
   "source": [
    "plt.plot(Y_test,label='Original')\n",
    "plt.plot(predict_y,label='Predicted')\n",
    "plt.legend()\n",
    "plt.show()"
   ]
  },
  {
   "cell_type": "markdown",
   "id": "c59b3a66",
   "metadata": {},
   "source": [
    "# Prediction using User Inputs"
   ]
  },
  {
   "cell_type": "markdown",
   "id": "46b989d4",
   "metadata": {},
   "source": [
    "As stated in the problem statement, we now find the predicted score if a student studies for 9.25 hours."
   ]
  },
  {
   "cell_type": "code",
   "execution_count": 83,
   "id": "1f520c62",
   "metadata": {},
   "outputs": [
    {
     "name": "stdout",
     "output_type": "stream",
     "text": [
      "Predicted Score if the student studies for 9.25 hours:[93.69173249]\n"
     ]
    }
   ],
   "source": [
    "hours=9.25\n",
    "score_new_pred=model.predict([[hours]])\n",
    "print(f\"Predicted Score if the student studies for 9.25 hours:{score_new_pred}\")"
   ]
  },
  {
   "cell_type": "markdown",
   "id": "98589e4a",
   "metadata": {},
   "source": [
    "Next, we take an user input and predict the score based on it using our model."
   ]
  },
  {
   "cell_type": "code",
   "execution_count": 84,
   "id": "87928ea5",
   "metadata": {},
   "outputs": [
    {
     "name": "stdout",
     "output_type": "stream",
     "text": [
      "Enter number of hours studied per day:7\n",
      "Predicted Score:\n",
      "[71.39275541]\n"
     ]
    }
   ],
   "source": [
    "hrs= float(input(\"Enter number of hours studied per day:\"))\n",
    "if (hrs<=24):\n",
    "    \n",
    "    pred_score=model.predict([[hrs]])\n",
    "    print(\"Predicted Score:\")\n",
    "    print(pred_score)\n",
    "else:\n",
    "    print(\"Please enter valid number of hours\")"
   ]
  },
  {
   "cell_type": "markdown",
   "id": "afa0613d",
   "metadata": {},
   "source": [
    "# Conclusion"
   ]
  },
  {
   "cell_type": "markdown",
   "id": "cd9e92ee",
   "metadata": {},
   "source": [
    "Using Linear Regression on the dataset given in the problem statement we get the following results:\n"
   ]
  },
  {
   "cell_type": "markdown",
   "id": "2a7843e3",
   "metadata": {},
   "source": [
    "1. If a student studies for 9.25 hours, his predicted score will be 93.69173249( approximately 94)."
   ]
  },
  {
   "cell_type": "markdown",
   "id": "60c5419a",
   "metadata": {},
   "source": [
    "2. The average error in our model is 4.183859899002975"
   ]
  },
  {
   "cell_type": "markdown",
   "id": "2da7bc9f",
   "metadata": {},
   "source": [
    "3. To reduce the error, we need to introduce more features or parameters in the dataset. Features like \"Self Study Time\", \"Parental level of education\", \"Test Preparation courses\" etc can be added to the dataset to make the prediction more accurate."
   ]
  },
  {
   "cell_type": "markdown",
   "id": "27c176a3",
   "metadata": {},
   "source": [
    "5. The linear regression model has certain flaws. For example, if we increase the number of hours in the user input for example: 12, then the predicted score becomes approximately 121 which is impractical since scores are mentioned in the data as percentages and percentage cannot exceed 100.\n",
    "To solve this, we can transform the data to standard normal form. But the above model can suffice for most cases."
   ]
  },
  {
   "cell_type": "markdown",
   "id": "f93f4a7c",
   "metadata": {},
   "source": [
    "# Thank You"
   ]
  }
 ],
 "metadata": {
  "kernelspec": {
   "display_name": "Python 3 (ipykernel)",
   "language": "python",
   "name": "python3"
  },
  "language_info": {
   "codemirror_mode": {
    "name": "ipython",
    "version": 3
   },
   "file_extension": ".py",
   "mimetype": "text/x-python",
   "name": "python",
   "nbconvert_exporter": "python",
   "pygments_lexer": "ipython3",
   "version": "3.9.13"
  }
 },
 "nbformat": 4,
 "nbformat_minor": 5
}
